{
 "cells": [
  {
   "cell_type": "code",
   "execution_count": 1,
   "metadata": {},
   "outputs": [
    {
     "name": "stdout",
     "output_type": "stream",
     "text": [
      "Processing c:\\users\\shoon\\desktop\\pyprogressive\\pyprogressive\n",
      "Requirement already satisfied: sympy in c:\\users\\shoon\\appdata\\local\\programs\\python\\python39\\lib\\site-packages (from progressive==0.1) (1.13.3)\n",
      "Requirement already satisfied: mpmath<1.4,>=1.1.0 in c:\\users\\shoon\\appdata\\local\\programs\\python\\python39\\lib\\site-packages (from sympy->progressive==0.1) (1.3.0)\n",
      "Using legacy 'setup.py install' for progressive, since package 'wheel' is not installed.\n",
      "Installing collected packages: progressive\n",
      "  Attempting uninstall: progressive\n",
      "    Found existing installation: progressive 0.1\n",
      "    Uninstalling progressive-0.1:\n",
      "      Successfully uninstalled progressive-0.1\n",
      "    Running setup.py install for progressive: started\n",
      "    Running setup.py install for progressive: finished with status 'done'\n",
      "Successfully installed progressive-0.1\n",
      "Note: you may need to restart the kernel to use updated packages.\n"
     ]
    },
    {
     "name": "stderr",
     "output_type": "stream",
     "text": [
      "  DEPRECATION: A future pip version will change local packages to be built in-place without first copying to a temporary directory. We recommend you use --use-feature=in-tree-build to test your packages with this new behavior before it becomes the default.\n",
      "   pip 21.3 will remove support for this functionality. You can find discussion regarding this at https://github.com/pypa/pip/issues/7555.\n",
      "WARNING: You are using pip version 21.1.1; however, version 25.0.1 is available.\n",
      "You should consider upgrading via the 'c:\\Users\\shoon\\AppData\\Local\\Programs\\Python\\Python39\\python.exe -m pip install --upgrade pip' command.\n"
     ]
    }
   ],
   "source": [
    "pip install .."
   ]
  },
  {
   "cell_type": "code",
   "execution_count": 2,
   "metadata": {},
   "outputs": [],
   "source": [
    "import progressive as pp"
   ]
  },
  {
   "cell_type": "code",
   "execution_count": 4,
   "metadata": {},
   "outputs": [
    {
     "name": "stdout",
     "output_type": "stream",
     "text": [
      "336.0\n",
      "510.0\n",
      "636.0\n",
      "661.5\n",
      "656.4\n",
      "620.0\n",
      "Computation done\n",
      "620.0\n"
     ]
    }
   ],
   "source": [
    "ps = pp.Session()\n",
    "array = pp.Array([10, 20, 0, 21, 5, 42, 11, 14, 34, 13, 12, 42, 14, 59, 21, 19, 49, 31, 3, 21, 9, 14, 40, 20, 23, 5, 11, 15, 19, 23])\n",
    "\n",
    "\n",
    "with ps.loop([array], interval=1) as loop:\n",
    "    psum = loop.add_variable(0)\n",
    "\n",
    "    @loop.on(\"tick\")\n",
    "    def tick_handler():\n",
    "        print(psum.value())\n",
    "\n",
    "    @loop.on(\"end\")\n",
    "    def end_handler():\n",
    "        print(\"Computation done\")\n",
    "        print(psum.value())\n",
    "    \n",
    "    for i in loop:\n",
    "        psum += array[i]\n",
    "\n",
    "\n"
   ]
  },
  {
   "cell_type": "code",
   "execution_count": null,
   "metadata": {},
   "outputs": [],
   "source": []
  }
 ],
 "metadata": {
  "kernelspec": {
   "display_name": "Python 3",
   "language": "python",
   "name": "python3"
  },
  "language_info": {
   "codemirror_mode": {
    "name": "ipython",
    "version": 3
   },
   "file_extension": ".py",
   "mimetype": "text/x-python",
   "name": "python",
   "nbconvert_exporter": "python",
   "pygments_lexer": "ipython3",
   "version": "3.9.5"
  }
 },
 "nbformat": 4,
 "nbformat_minor": 2
}
