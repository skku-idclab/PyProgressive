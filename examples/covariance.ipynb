{
 "cells": [
  {
   "cell_type": "code",
   "execution_count": 1,
   "metadata": {},
   "outputs": [
    {
     "name": "stdout",
     "output_type": "stream",
     "text": [
      "Processing c:\\users\\shoon\\desktop\\pyprogressive\\pyprogressive\n",
      "Requirement already satisfied: sympy in c:\\users\\shoon\\appdata\\local\\programs\\python\\python39\\lib\\site-packages (from progressive==0.1) (1.13.3)\n",
      "Requirement already satisfied: mpmath<1.4,>=1.1.0 in c:\\users\\shoon\\appdata\\local\\programs\\python\\python39\\lib\\site-packages (from sympy->progressive==0.1) (1.3.0)\n",
      "Using legacy 'setup.py install' for progressive, since package 'wheel' is not installed.\n",
      "Installing collected packages: progressive\n",
      "  Attempting uninstall: progressive\n",
      "    Found existing installation: progressive 0.1\n",
      "    Uninstalling progressive-0.1:\n",
      "      Successfully uninstalled progressive-0.1\n",
      "    Running setup.py install for progressive: started\n",
      "    Running setup.py install for progressive: finished with status 'done'\n",
      "Successfully installed progressive-0.1\n",
      "Note: you may need to restart the kernel to use updated packages.\n"
     ]
    },
    {
     "name": "stderr",
     "output_type": "stream",
     "text": [
      "  DEPRECATION: A future pip version will change local packages to be built in-place without first copying to a temporary directory. We recommend you use --use-feature=in-tree-build to test your packages with this new behavior before it becomes the default.\n",
      "   pip 21.3 will remove support for this functionality. You can find discussion regarding this at https://github.com/pypa/pip/issues/7555.\n",
      "WARNING: You are using pip version 21.1.1; however, version 25.0.1 is available.\n",
      "You should consider upgrading via the 'c:\\Users\\shoon\\AppData\\Local\\Programs\\Python\\Python39\\python.exe -m pip install --upgrade pip' command.\n"
     ]
    }
   ],
   "source": [
    "pip install .."
   ]
  },
  {
   "cell_type": "code",
   "execution_count": 2,
   "metadata": {},
   "outputs": [],
   "source": [
    "import progressive as pp"
   ]
  },
  {
   "cell_type": "code",
   "execution_count": 3,
   "metadata": {},
   "outputs": [
    {
     "name": "stdout",
     "output_type": "stream",
     "text": [
      "15.0 40.0 -300.0\n",
      "13.5 40.25 -13.125\n",
      "11.8 212.2 -1179.7600000000002\n",
      "16.0 234.85714285714286 -26.857142857143117\n",
      "17.77777777777778 246.88888888888889 376.19753086419587\n",
      "17.3 239.5 370.34999999999854\n",
      "Computation end\n",
      "17.3 239.5 370.34999999999854\n"
     ]
    }
   ],
   "source": [
    "ps = pp.Session()\n",
    "array0 = pp.Array([10, 20, 3, 21, 5, 42, 11, 14, 34, 13])\n",
    "array1 = pp.Array([100, -20, 10, 71, 900, 422, 161, 144, 434, 173])\n",
    "\n",
    "with ps.loop([array0, array1], interval=1) as loop:\n",
    "    xmean = loop.add_variable(0)\n",
    "    ymean = loop.add_variable(0)\n",
    "    cov = loop.add_variable(0)\n",
    "\n",
    "        \n",
    "    @loop.on(\"tick\")\n",
    "    def tick_handler():\n",
    "        print(xmean.value(), ymean.value(), cov.value())\n",
    "\n",
    "    @loop.on(\"end\")\n",
    "    def end_handler():\n",
    "        print(\"Computation end\")\n",
    "        print(xmean.value(), ymean.value(), cov.value())\n",
    "\n",
    "    for i in loop:\n",
    "        xmean += array0[i]\n",
    "    xmean /= len(array0)\n",
    "            \n",
    "    for i in loop:\n",
    "        ymean += array1[i]\n",
    "    ymean /= len(array0)\n",
    "\n",
    "    for i in loop:\n",
    "        cov += (array0[i] - xmean) * (array1[i] - ymean)\n",
    "    cov /= len(array0)\n"
   ]
  },
  {
   "cell_type": "code",
   "execution_count": null,
   "metadata": {},
   "outputs": [],
   "source": []
  }
 ],
 "metadata": {
  "kernelspec": {
   "display_name": "Python 3",
   "language": "python",
   "name": "python3"
  },
  "language_info": {
   "codemirror_mode": {
    "name": "ipython",
    "version": 3
   },
   "file_extension": ".py",
   "mimetype": "text/x-python",
   "name": "python",
   "nbconvert_exporter": "python",
   "pygments_lexer": "ipython3",
   "version": "3.9.5"
  }
 },
 "nbformat": 4,
 "nbformat_minor": 2
}
