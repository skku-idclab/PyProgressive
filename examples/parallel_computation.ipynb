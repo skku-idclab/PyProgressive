{
 "cells": [
  {
   "cell_type": "code",
   "execution_count": null,
   "metadata": {},
   "outputs": [],
   "source": [
    "pip install .."
   ]
  },
  {
   "cell_type": "code",
   "execution_count": 1,
   "metadata": {},
   "outputs": [],
   "source": [
    "import progressive as pp"
   ]
  },
  {
   "cell_type": "code",
   "execution_count": 8,
   "metadata": {},
   "outputs": [
    {
     "name": "stdout",
     "output_type": "stream",
     "text": [
      "300.0 84700.0\n",
      "336.0 104184.0\n",
      "461.25 350171.25\n",
      "510.0 400524.0\n",
      "549.2307692307692 484375.3846153846\n",
      "636.0 841068.0\n",
      "695.0 951685.0\n",
      "661.5 869737.5\n",
      "632.7272727272727 794997.2727272727\n",
      "656.4 797463.6\n",
      "625.5555555555555 739830.0\n",
      "620.0 687076.0\n",
      "Computation done\n",
      "620.0 687076.0\n"
     ]
    }
   ],
   "source": [
    "ps = pp.Session()\n",
    "array = pp.Array([10, 20, 0, 21, 5, 42, 11, 14, 34, 13, 12, 42, 14, 59, 21, 19, 49, 31, 3, 21, 9, 14, 40, 20, 23, 5, 11, 15, 19, 23]) # sum = 620\n",
    "\n",
    "\n",
    "\n",
    "with ps.loop(array, interval=1) as loop:\n",
    "    a = loop.add_variable(0)\n",
    "    b = loop.add_variable(0)\n",
    "\n",
    "    @loop.on(\"tick\")\n",
    "    def tick_handler():\n",
    "        print(a.value(), b.value())\n",
    "\n",
    "    @loop.on(\"end\")\n",
    "    def end_handler():\n",
    "        print(\"Computation done\")\n",
    "        print(a.value(), b.value())\n",
    "    \n",
    "    for i in loop:\n",
    "        a += array[i]\n",
    "\n",
    "    for i in loop:\n",
    "        b += array[i]**3 - array[i]**2 - array[i]\n",
    "\n",
    "        \n"
   ]
  },
  {
   "cell_type": "code",
   "execution_count": null,
   "metadata": {},
   "outputs": [],
   "source": []
  }
 ],
 "metadata": {
  "kernelspec": {
   "display_name": "Python 3",
   "language": "python",
   "name": "python3"
  },
  "language_info": {
   "codemirror_mode": {
    "name": "ipython",
    "version": 3
   },
   "file_extension": ".py",
   "mimetype": "text/x-python",
   "name": "python",
   "nbconvert_exporter": "python",
   "pygments_lexer": "ipython3",
   "version": "3.9.5"
  }
 },
 "nbformat": 4,
 "nbformat_minor": 2
}
