{
 "cells": [
  {
   "cell_type": "code",
   "execution_count": 1,
   "metadata": {},
   "outputs": [
    {
     "name": "stdout",
     "output_type": "stream",
     "text": [
      "Processing c:\\users\\shoon\\desktop\\pyprogressive\\pyprogressive\n",
      "Requirement already satisfied: sympy in c:\\users\\shoon\\appdata\\local\\programs\\python\\python39\\lib\\site-packages (from progressive==0.1) (1.13.3)\n",
      "Requirement already satisfied: mpmath<1.4,>=1.1.0 in c:\\users\\shoon\\appdata\\local\\programs\\python\\python39\\lib\\site-packages (from sympy->progressive==0.1) (1.3.0)\n",
      "Using legacy 'setup.py install' for progressive, since package 'wheel' is not installed.\n",
      "Installing collected packages: progressive\n",
      "  Attempting uninstall: progressive\n",
      "    Found existing installation: progressive 0.1\n",
      "    Uninstalling progressive-0.1:\n",
      "      Successfully uninstalled progressive-0.1\n",
      "    Running setup.py install for progressive: started\n",
      "    Running setup.py install for progressive: finished with status 'done'\n",
      "Successfully installed progressive-0.1\n",
      "Note: you may need to restart the kernel to use updated packages.\n"
     ]
    },
    {
     "name": "stderr",
     "output_type": "stream",
     "text": [
      "  DEPRECATION: A future pip version will change local packages to be built in-place without first copying to a temporary directory. We recommend you use --use-feature=in-tree-build to test your packages with this new behavior before it becomes the default.\n",
      "   pip 21.3 will remove support for this functionality. You can find discussion regarding this at https://github.com/pypa/pip/issues/7555.\n",
      "WARNING: You are using pip version 21.1.1; however, version 25.0.1 is available.\n",
      "You should consider upgrading via the 'c:\\Users\\shoon\\AppData\\Local\\Programs\\Python\\Python39\\python.exe -m pip install --upgrade pip' command.\n"
     ]
    }
   ],
   "source": [
    "pip install .."
   ]
  },
  {
   "cell_type": "code",
   "execution_count": 2,
   "metadata": {},
   "outputs": [],
   "source": [
    "import progressive as pp"
   ]
  },
  {
   "cell_type": "code",
   "execution_count": 4,
   "metadata": {},
   "outputs": [
    {
     "name": "stdout",
     "output_type": "stream",
     "text": [
      "7500.0 7455.1 -0.12 -53.61\n",
      "5000.0 4970.1 -0.12 -35.61\n",
      "7057.5 7019.35 -0.11 -41.12\n",
      "5796.0 5762.5 -0.11 -38.58\n",
      "12218.57 12171.96 -0.08 -35.52\n",
      "11426.25 11380.22 -0.08 -37.02\n",
      "14010.0 13957.77 -0.07 -38.9\n",
      "13116.0 13065.1 -0.08 -39.45\n",
      "15700.0 15644.1 -0.07 -39.77\n",
      "14944.62 14889.79 -0.07 -40.18\n",
      "21336.43 21272.89 -0.06 -37.82\n",
      "20796.0 20732.5 -0.06 -38.75\n",
      "20173.12 20110.04 -0.06 -39.43\n",
      "23535.0 23465.6 -0.06 -40.91\n",
      "22310.53 22244.31 -0.06 -39.28\n",
      "21856.5 21790.45 -0.06 -39.9\n",
      "20931.43 20867.24 -0.06 -39.34\n",
      "21453.91 21388.27 -0.06 -40.14\n",
      "21060.0 20994.6 -0.06 -40.59\n",
      "20852.4 20786.86 -0.06 -41.17\n",
      "20079.23 20015.64 -0.06 -40.25\n",
      "19015.71 18953.89 -0.06 -40.18\n",
      "18733.45 18671.79 -0.07 -40.56\n",
      "18638.0 18576.1 -0.07 -41.08\n",
      "Computation done\n",
      "18638.0 18576.099932221765 -0.06626323298408987 -41.08320445013572\n"
     ]
    }
   ],
   "source": [
    "ps = pp.Session()\n",
    "array = pp.Array([10, 20, 0, 21, 5, 42, 11, 14, 34, 13, 12, 42, 14, 59, 21, 19, 49, 31, 3, 21, 9, 14, 40, 20, 23, 5, 11, 15, 19, 23])\n",
    "\n",
    "\n",
    "with ps.loop([array], interval=1) as loop:\n",
    "    a = loop.add_variable(0)\n",
    "    b = loop.add_variable(0)\n",
    "    c = loop.add_variable(0)\n",
    "    d = loop.add_variable(0)\n",
    "\n",
    "    @loop.on(\"tick\")\n",
    "    def tick_handler():\n",
    "        print(round(a.value(), 2), round(b.value(), 2), round(c.value(), 2), round(d.value(), 2))\n",
    "\n",
    "    @loop.on(\"end\")\n",
    "    def end_handler():\n",
    "        print(\"Computation done\")\n",
    "        print(a.value(), b.value(), c.value(), d.value())\n",
    "    \n",
    "    for i in loop:\n",
    "        a += array[i]**2\n",
    "\n",
    "    for i in loop:\n",
    "        b += (a - array[i])**3\n",
    "    b /= len(array)\n",
    "    b /= a**2\n",
    "\n",
    "    for i in loop:\n",
    "        c += (b - a + array[i])\n",
    "    c /= (a+len(array))\n",
    "\n",
    "    for i in loop:\n",
    "        d += c * array[i]"
   ]
  },
  {
   "cell_type": "code",
   "execution_count": null,
   "metadata": {},
   "outputs": [],
   "source": []
  }
 ],
 "metadata": {
  "kernelspec": {
   "display_name": "Python 3",
   "language": "python",
   "name": "python3"
  },
  "language_info": {
   "codemirror_mode": {
    "name": "ipython",
    "version": 3
   },
   "file_extension": ".py",
   "mimetype": "text/x-python",
   "name": "python",
   "nbconvert_exporter": "python",
   "pygments_lexer": "ipython3",
   "version": "3.9.5"
  }
 },
 "nbformat": 4,
 "nbformat_minor": 2
}
